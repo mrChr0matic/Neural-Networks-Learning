{
 "cells": [
  {
   "cell_type": "code",
   "execution_count": 15,
   "id": "07b99a0c",
   "metadata": {},
   "outputs": [
    {
     "name": "stdout",
     "output_type": "stream",
     "text": [
      "[[-0.5947236 ]\n",
      " [ 0.10057574]\n",
      " [ 0.42089307]\n",
      " [ 0.25025656]\n",
      " [-1.37920787]]\n",
      "(5, 1)\n",
      "[[-0.5947236   0.10057574  0.42089307  0.25025656 -1.37920787]]\n",
      "[[ 0.35369616 -0.05981476 -0.25031504 -0.14883348  0.82024747]\n",
      " [-0.05981476  0.01011548  0.04233163  0.02516974 -0.13871485]\n",
      " [-0.25031504  0.04233163  0.17715097  0.10533125 -0.58049903]\n",
      " [-0.14883348  0.02516974  0.10533125  0.06262835 -0.34515582]\n",
      " [ 0.82024747 -0.13871485 -0.58049903 -0.34515582  1.90221436]]\n"
     ]
    }
   ],
   "source": [
    "import numpy as np\n",
    "a=np.random.randn(5,1)\n",
    "print(a)\n",
    "print(a.shape)\n",
    "print(a.T)\n",
    "print(np.dot(a,a.T))"
   ]
  },
  {
   "cell_type": "code",
   "execution_count": 21,
   "id": "e1444b82",
   "metadata": {},
   "outputs": [],
   "source": [
    "assert(a.shape==(5,1))"
   ]
  }
 ],
 "metadata": {
  "kernelspec": {
   "display_name": "Python 3 (ipykernel)",
   "language": "python",
   "name": "python3"
  },
  "language_info": {
   "codemirror_mode": {
    "name": "ipython",
    "version": 3
   },
   "file_extension": ".py",
   "mimetype": "text/x-python",
   "name": "python",
   "nbconvert_exporter": "python",
   "pygments_lexer": "ipython3",
   "version": "3.9.12"
  }
 },
 "nbformat": 4,
 "nbformat_minor": 5
}
